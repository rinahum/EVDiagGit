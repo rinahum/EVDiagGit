{
 "cells": [
  {
   "cell_type": "markdown",
   "metadata": {},
   "source": [
    "Librerias necesarias"
   ]
  },
  {
   "cell_type": "code",
   "execution_count": 2,
   "metadata": {},
   "outputs": [],
   "source": [
    "import json"
   ]
  },
  {
   "cell_type": "markdown",
   "metadata": {},
   "source": [
    "Variables"
   ]
  },
  {
   "cell_type": "code",
   "execution_count": 3,
   "metadata": {},
   "outputs": [],
   "source": [
    "path = \"data/farmers-protest-tweets-2021-03-5.json\""
   ]
  },
  {
   "cell_type": "markdown",
   "metadata": {},
   "source": [
    "1. Los top 10 tweets más retweeted."
   ]
  },
  {
   "cell_type": "code",
   "execution_count": null,
   "metadata": {},
   "outputs": [],
   "source": [
    "def top_tweets(file_path):\n",
    "    tweets = [None]*10;\n",
    "    with open(file_path, 'r') as f:\n",
    "        for jsonData in f:\n",
    "            #Parses the file line to a json\n",
    "            data = json.loads(jsonData);\n",
    "\n",
    "            for i in range(len(tweets)):\n",
    "                if(tweets[i] == None):\n",
    "                    tweets[i] = data;\n",
    "                    break;\n",
    "                elif(tweets[i][\"retweetCount\"] < data[\"retweetCount\"]):\n",
    "                    # Adds the value and shifts the list to the right\n",
    "                    temp_tweet = tweets[i];\n",
    "                    tweets[i] = data;\n",
    "                    for k in range(i + 1, 10):\n",
    "                        temp = tweets[k];\n",
    "                        tweets[k] = temp_tweet;\n",
    "                        temp_tweet = temp;\n",
    "                    break;\n",
    "    return tweets;\n",
    "top_tweets(path)"
   ]
  },
  {
   "cell_type": "markdown",
   "metadata": {},
   "source": [
    "2. Los top 10 usuarios en función a la cantidad de tweets que emitieron."
   ]
  },
  {
   "cell_type": "code",
   "execution_count": null,
   "metadata": {},
   "outputs": [],
   "source": [
    "def top_users(file_path):\n",
    "    users = {}\n",
    "    with open(file_path, 'r') as f:\n",
    "        for jsonData in f:\n",
    "            data = json.loads(jsonData);\n",
    "            user = {\n",
    "                \"user\": data[\"user\"],\n",
    "                \"count\": 1}\n",
    "            if(data[\"user\"][\"id\"] in users):\n",
    "                users[data[\"user\"][\"id\"]][\"count\"] += 1;\n",
    "            else:\n",
    "                users[data[\"user\"][\"id\"]] = user;\n",
    "    top_users = [None]*10;\n",
    "    for user in users:\n",
    "        for i in range(len(top_users)):\n",
    "            if(top_users[i] == None):\n",
    "                top_users[i] = users[user];\n",
    "                break;\n",
    "            elif(top_users[i][\"count\"] < users[user][\"count\"]):\n",
    "                temp_user = top_users[i];\n",
    "                top_users[i] = users[user];\n",
    "                for k in range(i + 1, 10):\n",
    "                    temp = top_users[k];\n",
    "                    top_users[k] = temp_user;\n",
    "                    temp_user = temp;\n",
    "                break;\n",
    "    for i in range(len(top_users)):\n",
    "        top_users[i] = top_users[i][\"user\"];\n",
    "    \n",
    "    return top_users;\n",
    "top_users(path)"
   ]
  },
  {
   "cell_type": "markdown",
   "metadata": {},
   "source": [
    "3. Los top 10 días donde hay más tweets."
   ]
  },
  {
   "cell_type": "code",
   "execution_count": null,
   "metadata": {},
   "outputs": [],
   "source": [
    "def active_days(file_path):\n",
    "    days = {}\n",
    "    with open(file_path, 'r') as f:\n",
    "        for jsonData in f:\n",
    "            data = json.loads(jsonData);\n",
    "            date = data[\"date\"].split(\"T\")[0]\n",
    "            if(date not in days):\n",
    "                days[date] = {\n",
    "                    \"date\": date,\n",
    "                    \"count\": 1\n",
    "                }\n",
    "            else:\n",
    "                days[date][\"count\"] += 1\n",
    "\n",
    "    top_days = [None]*10\n",
    "    for date in days:\n",
    "        for i in range(len(top_days)):\n",
    "            if(top_days[i] == None):\n",
    "                top_days[i] = days[date];\n",
    "                break;\n",
    "            elif(top_days[i][\"count\"] < days[date][\"count\"]):\n",
    "                temp_date = top_days[i];\n",
    "                top_days[i] = days[date];\n",
    "                for k in range(i + 1, 10):\n",
    "                    temp = top_days[k];\n",
    "                    top_days[k] = temp_date;\n",
    "                    temp_date = temp;\n",
    "                break;\n",
    "    for i in range(len(top_days)):\n",
    "        top_days[i] = top_days[i][\"date\"];\n",
    "    \n",
    "    return top_days\n",
    "\n",
    "active_days(path)"
   ]
  },
  {
   "cell_type": "markdown",
   "metadata": {},
   "source": [
    "4. Top 10 hashtags más usados."
   ]
  },
  {
   "cell_type": "code",
   "execution_count": null,
   "metadata": {},
   "outputs": [],
   "source": [
    "def top_hashtags(file_path):\n",
    "    hashtags = {}\n",
    "    with open(file_path, 'r') as f:\n",
    "        for jsonData in f:\n",
    "            data = json.loads(jsonData);\n",
    "            slices = data[\"content\"].split(\" \");\n",
    "            for slice in slices:\n",
    "                if \"#\" in slice:\n",
    "                    hashtag = slice\n",
    "                    if(hashtag not in hashtags):\n",
    "                        hashtags[hashtag] = {\n",
    "                            \"hashtag\": hashtag,\n",
    "                            \"count\": 1\n",
    "                        }\n",
    "                    else:\n",
    "                        hashtags[hashtag][\"count\"] += 1\n",
    "    top_hashtags = [None]*10\n",
    "    for hashtag in hashtags:\n",
    "        for i in range(len(top_hashtags)):\n",
    "            if(top_hashtags[i] == None):\n",
    "                top_hashtags[i] = hashtags[hashtag];\n",
    "                break;\n",
    "            elif(top_hashtags[i][\"count\"] < hashtags[hashtag][\"count\"]):\n",
    "                temp_hashtag = top_hashtags[i];\n",
    "                top_hashtags[i] = hashtags[hashtag];\n",
    "                for k in range(i + 1, 10):\n",
    "                    temp = top_hashtags[k];\n",
    "                    top_hashtags[k] = temp_hashtag;\n",
    "                    temp_hashtag = temp;\n",
    "                break;\n",
    "    for i in range(len(top_hashtags)):\n",
    "        top_hashtags[i] = top_hashtags[i][\"hashtag\"];\n",
    "\n",
    "    return top_hashtags\n",
    "top_hashtags(path)"
   ]
  }
 ],
 "metadata": {
  "interpreter": {
   "hash": "9a40a8c90788aa8c67c772331b221cc283f52ae33dfea325d8c15eb865b2b2f3"
  },
  "kernelspec": {
   "display_name": "Python 3.10.4 64-bit",
   "language": "python",
   "name": "python3"
  },
  "language_info": {
   "codemirror_mode": {
    "name": "ipython",
    "version": 3
   },
   "file_extension": ".py",
   "mimetype": "text/x-python",
   "name": "python",
   "nbconvert_exporter": "python",
   "pygments_lexer": "ipython3",
   "version": "3.10.4"
  },
  "orig_nbformat": 4
 },
 "nbformat": 4,
 "nbformat_minor": 2
}
